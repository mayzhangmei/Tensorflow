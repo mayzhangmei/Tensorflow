{
  "nbformat": 4,
  "nbformat_minor": 0,
  "metadata": {
    "colab": {
      "name": "Untitled2.ipynb",
      "version": "0.3.2",
      "provenance": [],
      "include_colab_link": true
    },
    "kernelspec": {
      "name": "python3",
      "display_name": "Python 3"
    }
  },
  "cells": [
    {
      "cell_type": "markdown",
      "metadata": {
        "id": "view-in-github",
        "colab_type": "text"
      },
      "source": [
        "<a href=\"https://colab.research.google.com/github/mayzhangmei/Tensorflow/blob/master/visualization.ipynb\" target=\"_parent\"><img src=\"https://colab.research.google.com/assets/colab-badge.svg\" alt=\"Open In Colab\"/></a>"
      ]
    },
    {
      "cell_type": "code",
      "metadata": {
        "id": "s6nElBGrW377",
        "colab_type": "code",
        "outputId": "47721e94-d5f5-41b6-cdd6-e6c8e4154c82",
        "colab": {
          "base_uri": "https://localhost:8080/",
          "height": 269
        }
      },
      "source": [
        "#from _future_ import print_function\n",
        "import tensorflow as tf\n",
        "import numpy as np\n",
        "import matplotlib.pyplot as plt\n",
        "\n",
        "def add_layer(inputs, in_size, out_size, activation_function=None):\n",
        "  #add one more layer and return the ouput of this layer\n",
        "  Weights = tf.Variable(tf.random_normal([in_size, out_size]))\n",
        "  biases = tf.Variable(tf.zeros([1, out_size]) + 0.1)\n",
        "  Wx_plus_b = tf.matmul(inputs, Weights) + biases\n",
        "  if activation_function is None:\n",
        "    outputs = Wx_plus_b\n",
        "  else:\n",
        "    outputs = activation_function(Wx_plus_b)\n",
        "  return outputs\n",
        "\n",
        "#make up some real data\n",
        "x_data = np.linspace(-1, 1, 300)[:, np.newaxis]\n",
        "noise = np.random.normal(0, 0.05, x_data.shape)\n",
        "y_data = np.square(x_data) - 0.5 + noise\n",
        "\n",
        "#define placeholder for inputs to network\n",
        "xs = tf.placeholder(tf.float32, [None, 1])\n",
        "ys = tf.placeholder(tf.float32, [None, 1])\n",
        "\n",
        "#add hiddern layer\n",
        "l1 = add_layer(xs, 1, 10, activation_function = tf.nn.relu)\n",
        "\n",
        "#add output layer\n",
        "prediction = add_layer(l1, 10, 1, activation_function = None)\n",
        "\n",
        "#the error between prediction and real data\n",
        "loss = tf.reduce_mean(tf.reduce_sum(tf.square(ys-prediction), \n",
        "                                    reduction_indices = [1]))\n",
        "\n",
        "train_step = tf.train.GradientDescentOptimizer(0.1).minimize(loss)\n",
        "\n",
        "init = tf.global_variables_initializer()\n",
        "sess = tf.Session()\n",
        "sess.run(init)\n",
        "\n",
        "fig = plt.figure()\n",
        "ax = fig.add_subplot(1,1,1)\n",
        "ax.scatter(x_data, y_data)\n",
        "plt.ion()\n",
        "plt.show()\n",
        "\n",
        "for i in range(1000):\n",
        "  #training\n",
        "  sess.run(train_step, feed_dict={xs: x_data, ys: y_data})\n",
        "  if i%50 == 0:\n",
        "    try:\n",
        "      ax.lines.remove(lines[0])\n",
        "    except Exception:\n",
        "      pass\n",
        "    prediction_value = sess.run(prediction, feed_dict={xs:x_data})\n",
        "    lines = ax.plot(x_data, prediction_value, 'r-', lw=5)\n",
        "    \n",
        "    plt.pause(0.1)\n",
        "    \n",
        "    # to see the step improvemennt\n",
        "    # print(sess.run(loss, feed_dict = {xs:x_data, ys:y_data}))"
      ],
      "execution_count": 10,
      "outputs": [
        {
          "output_type": "display_data",
          "data": {
            "image/png": "[encoded data removed]",
            "text/plain": [
              "<Figure size 432x288 with 1 Axes>"
            ]
          },
          "metadata": {
            "tags": []
          }
        }
      ]
    }
  ]
}