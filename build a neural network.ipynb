{
  "nbformat": 4,
  "nbformat_minor": 0,
  "metadata": {
    "colab": {
      "name": "Untitled1.ipynb",
      "version": "0.3.2",
      "provenance": [],
      "include_colab_link": true
    },
    "kernelspec": {
      "name": "python3",
      "display_name": "Python 3"
    }
  },
  "cells": [
    {
      "cell_type": "markdown",
      "metadata": {
        "id": "view-in-github",
        "colab_type": "text"
      },
      "source": [
        "<a href=\"https://colab.research.google.com/github/mayzhangmei/Tensorflow/blob/master/build%20a%20neural%20network.ipynb\" target=\"_parent\"><img src=\"https://colab.research.google.com/assets/colab-badge.svg\" alt=\"Open In Colab\"/></a>"
      ]
    },
    {
      "cell_type": "code",
      "metadata": {
        "id": "nDqCgX63kkvE",
        "colab_type": "code",
        "colab": {
          "base_uri": "https://localhost:8080/",
          "height": 357
        },
        "outputId": "e0acef90-35cb-4c6f-af7e-4cca002bfce8"
      },
      "source": [
        "#from _future_ import print_function\n",
        "import tensorflow as tf\n",
        "import numpy as np\n",
        "\n",
        "def add_layer(inputs, in_size, out_size, activation_function=None):\n",
        "  #add one more layer and return the ouput of this layer\n",
        "  Weights = tf.Variable(tf.random_normal([in_size, out_size]))\n",
        "  biases = tf.Variable(tf.zeros([1, out_size]) + 0.1)\n",
        "  Wx_plus_b = tf.matmul(inputs, Weights) + biases\n",
        "  if activation_function is None:\n",
        "    outputs = Wx_plus_b\n",
        "  else:\n",
        "    outputs = activation_function(Wx_plus_b)\n",
        "  return outputs\n",
        "\n",
        "#make uo some real data\n",
        "x_data = np.linspace(-1, 1, 300)[:, np.newaxis]\n",
        "noise = np.random.normal(0, 0.05, x_data.shape)\n",
        "y_data = np.square(x_data) - 0.5 + noise\n",
        "\n",
        "#define placeholder for inputs to network\n",
        "xs = tf.placeholder(tf.float32, [None, 1])\n",
        "ys = tf.placeholder(tf.float32, [None, 1])\n",
        "\n",
        "#add hiddern layer\n",
        "l1 = add_layer(xs, 1, 10, activation_function = tf.nn.relu)\n",
        "\n",
        "#add output layer\n",
        "prediction = add_layer(l1, 10, 1, activation_function = None)\n",
        "\n",
        "#the error between prediction and real data\n",
        "loss = tf.reduce_mean(tf.reduce_sum(tf.square(ys-prediction), \n",
        "                                    reduction_indices = [1]))\n",
        "\n",
        "train_step = tf.train.GradientDescentOptimizer(0.1).minimize(loss)\n",
        "\n",
        "init = tf.global_variables_initializer()\n",
        "sess = tf.Session()\n",
        "sess.run(init)\n",
        "\n",
        "for i in range(1000):\n",
        "  #training\n",
        "  sess.run(train_step, feed_dict={xs: x_data, ys: y_data})\n",
        "  if i%50 == 0:\n",
        "    # to see the step improvemennt\n",
        "    print(sess.run(loss, feed_dict = {xs:x_data, ys:y_data}))\n",
        "    "
      ],
      "execution_count": 3,
      "outputs": [
        {
          "output_type": "stream",
          "text": [
            "0.16081148\n",
            "0.014948193\n",
            "0.011140051\n",
            "0.0100626275\n",
            "0.009363226\n",
            "0.008761493\n",
            "0.0081543075\n",
            "0.007572136\n",
            "0.0069714785\n",
            "0.00643963\n",
            "0.0060037766\n",
            "0.0056361505\n",
            "0.005338003\n",
            "0.0050697546\n",
            "0.0048293574\n",
            "0.0046012606\n",
            "0.0044194297\n",
            "0.004271658\n",
            "0.0041460725\n",
            "0.0040476085\n"
          ],
          "name": "stdout"
        }
      ]
    }
  ]
}