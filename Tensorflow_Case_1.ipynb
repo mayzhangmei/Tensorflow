{
  "nbformat": 4,
  "nbformat_minor": 0,
  "metadata": {
    "colab": {
      "name": "Tensorflow Case 1",
      "version": "0.3.2",
      "provenance": [],
      "collapsed_sections": [],
      "include_colab_link": true
    },
    "kernelspec": {
      "name": "python3",
      "display_name": "Python 3"
    }
  },
  "cells": [
    {
      "cell_type": "markdown",
      "metadata": {
        "id": "view-in-github",
        "colab_type": "text"
      },
      "source": [
        "<a href=\"https://colab.research.google.com/github/mayzhangmei/Tensorflow/blob/master/Tensorflow_Case_1.ipynb\" target=\"_parent\"><img src=\"https://colab.research.google.com/assets/colab-badge.svg\" alt=\"Open In Colab\"/></a>"
      ]
    },
    {
      "cell_type": "code",
      "metadata": {
        "id": "3ItPIay09yW5",
        "colab_type": "code",
        "colab": {
          "base_uri": "https://localhost:8080/",
          "height": 204
        },
        "outputId": "76d2332e-fb99-431b-eec3-398dfa7f8fc8"
      },
      "source": [
        "import tensorflow as tf\n",
        "import numpy as np\n",
        "\n",
        "x_data = np.random.rand(100).astype(np.float32)\n",
        "y_data = 0.1*x_data + 0.3\n",
        "\n",
        "Weights = tf.Variable(tf.random_uniform([1], -1.0, 1.0))\n",
        "biases = tf.Variable(tf.zeros([1]))\n",
        "y = Weights * x_data + biases\n",
        "\n",
        "loss = tf.reduce_mean(tf.square(y-y_data))\n",
        "optimizer = tf.train.GradientDescentOptimizer(0.5)\n",
        "train = optimizer.minimize(loss)\n",
        "\n",
        "init = tf.global_variables_initializer()\n",
        "sess = tf.Session()\n",
        "sess.run(init)\n",
        "\n",
        "for step in range(201):\n",
        "  sess.run(train)\n",
        "  if step % 20 == 0:\n",
        "    print(step, sess.run(Weights), sess.run(biases))"
      ],
      "execution_count": 10,
      "outputs": [
        {
          "output_type": "stream",
          "text": [
            "0 [0.4133197] [0.1699694]\n",
            "20 [0.1753694] [0.2568918]\n",
            "40 [0.11944553] [0.28887796]\n",
            "60 [0.105017] [0.2971305]\n",
            "80 [0.10129441] [0.29925966]\n",
            "100 [0.10033397] [0.299809]\n",
            "120 [0.10008615] [0.29995075]\n",
            "140 [0.10002221] [0.29998732]\n",
            "160 [0.10000574] [0.29999673]\n",
            "180 [0.10000148] [0.29999915]\n",
            "200 [0.1000004] [0.29999977]\n"
          ],
          "name": "stdout"
        }
      ]
    }
  ]
}